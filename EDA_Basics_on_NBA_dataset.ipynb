{
 "cells": [
  {
   "cell_type": "markdown",
   "metadata": {},
   "source": [
    "### The Basics of Exploratory Data Analysis with NBA dataset"
   ]
  },
  {
   "cell_type": "markdown",
   "metadata": {},
   "source": [
    "In this notebook, you'll find the basics of exploratory data analysis applied on the NBA dataset. This particular set was chosen based on the author's personal passion for the game of baskteball aligned with his journey of learning data science. The idea is for you to apply the next steps on any data you happen to like, because the most important thing is to have fun while learning a subject. Feel encouraged to reproduced the following knowledge in a dataset you have interest in."
   ]
  },
  {
   "cell_type": "markdown",
   "metadata": {},
   "source": [
    "### Introduction"
   ]
  },
  {
   "cell_type": "markdown",
   "metadata": {},
   "source": [
    "Exploratory Data Analysis, or EDA for shortness, is the process of organizing, plotting and summarizing the dataset you want to work with. Those three steps are meant to get you started and prepared for diving into more complex analysis later on. Therefore, EDA serves us as a way of initially understand the data and even get some basic statistical insights, but it is never the whole story in data science. Please keep the following quote from John Tukey in mind:\n",
    "##### \"Exploratory data analysis can never be the whole story, but nothing else can serve as the foundation stone.\" - John Tukey"
   ]
  },
  {
   "cell_type": "markdown",
   "metadata": {},
   "source": [
    "### Importing the dataset"
   ]
  },
  {
   "cell_type": "markdown",
   "metadata": {},
   "source": [
    "In order to dive into organizing, plotting and summarizing our data, we must import it from a source.\n",
    "As initially noted, in this notebook, we are going to treat a NBA dataset. NBA stands for National Basketball Association, and it is the principal basketball league worldwide. The NBA organization is well known for storing and sharing data on all its games, players and teams throughout its many many years of existence. \n",
    "\n",
    "It's particulary very easy gathering data from NBA as many python libraries are already available in the open source community. \n",
    "\n",
    "In here, we're a going to use the nba-api library. For more details on it, please follow https://pypi.org/project/nba-api/."
   ]
  },
  {
   "cell_type": "code",
   "execution_count": null,
   "metadata": {},
   "outputs": [],
   "source": [
    "# Install nba-api\n",
    "! pip install nba-api"
   ]
  },
  {
   "cell_type": "markdown",
   "metadata": {},
   "source": [
    "Next, we're going to import the funcionalities for handling players, teams and games data."
   ]
  },
  {
   "cell_type": "code",
   "execution_count": 8,
   "metadata": {},
   "outputs": [],
   "source": [
    "from nba_api.stats.static import players  # Access players information\n",
    "from nba_api.stats.static import teams # Access teams information\n",
    "from nba_api.stats.endpoints import playercareerstats # Request players' career stats\n",
    "from nba_api.stats.endpoints import leaguegamefinder # Request teams' played gamed"
   ]
  },
  {
   "cell_type": "markdown",
   "metadata": {},
   "source": [
    "For this notebook's purpose, we will be working with two datasets:\n",
    "\n",
    "- Players' Career Stats => data collection of all players' career stats per seasons\n",
    "- Teams' Games Stats => data collection of all teams' played games"
   ]
  },
  {
   "cell_type": "code",
   "execution_count": null,
   "metadata": {},
   "outputs": [],
   "source": []
  },
  {
   "cell_type": "markdown",
   "metadata": {},
   "source": [
    "### Organizing the dataset"
   ]
  },
  {
   "cell_type": "markdown",
   "metadata": {},
   "source": [
    "By organizing the dataset, we mean to make our first moves on it like comprehending its shape, data types, missing values, columns and any other aspects that can help you make sense of what the data really is."
   ]
  },
  {
   "cell_type": "markdown",
   "metadata": {},
   "source": [
    "### Plotting the dataset"
   ]
  },
  {
   "cell_type": "code",
   "execution_count": null,
   "metadata": {},
   "outputs": [],
   "source": []
  },
  {
   "cell_type": "markdown",
   "metadata": {},
   "source": [
    "### Summarizing the dataset"
   ]
  },
  {
   "cell_type": "code",
   "execution_count": null,
   "metadata": {},
   "outputs": [],
   "source": []
  },
  {
   "cell_type": "markdown",
   "metadata": {},
   "source": [
    "### Final Notes"
   ]
  },
  {
   "cell_type": "code",
   "execution_count": null,
   "metadata": {},
   "outputs": [],
   "source": []
  }
 ],
 "metadata": {
  "kernelspec": {
   "display_name": "Python 3",
   "language": "python",
   "name": "python3"
  },
  "language_info": {
   "codemirror_mode": {
    "name": "ipython",
    "version": 3
   },
   "file_extension": ".py",
   "mimetype": "text/x-python",
   "name": "python",
   "nbconvert_exporter": "python",
   "pygments_lexer": "ipython3",
   "version": "3.7.6"
  }
 },
 "nbformat": 4,
 "nbformat_minor": 4
}
